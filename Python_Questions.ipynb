{
  "nbformat": 4,
  "nbformat_minor": 0,
  "metadata": {
    "colab": {
      "provenance": [],
      "toc_visible": true,
      "authorship_tag": "ABX9TyPo7v9AtHizDTqaEGp/grnI",
      "include_colab_link": true
    },
    "kernelspec": {
      "name": "python3",
      "display_name": "Python 3"
    },
    "language_info": {
      "name": "python"
    }
  },
  "cells": [
    {
      "cell_type": "markdown",
      "metadata": {
        "id": "view-in-github",
        "colab_type": "text"
      },
      "source": [
        "<a href=\"https://colab.research.google.com/github/porepranay37-stack/FNB-DATASET/blob/main/Python_Questions.ipynb\" target=\"_parent\"><img src=\"https://colab.research.google.com/assets/colab-badge.svg\" alt=\"Open In Colab\"/></a>"
      ]
    },
    {
      "cell_type": "markdown",
      "source": [
        "# PYTHON THEORY QUESTIONS:"
      ],
      "metadata": {
        "id": "fHrJz5cJc5q_"
      }
    },
    {
      "cell_type": "markdown",
      "source": [
        "1. Program to print maximum among two numbers.\n"
      ],
      "metadata": {
        "id": "ETJIkIYLdAEk"
      }
    },
    {
      "cell_type": "code",
      "source": [
        "a = int(input(\"Enter first number: \"))\n",
        "b = int(input(\"Enter second number: \"))\n",
        "\n",
        "if a > b:\n",
        "    print(\"Maximum number is:\", a)\n",
        "else:\n",
        "    print(\"Maximum number is:\", b)\n"
      ],
      "metadata": {
        "colab": {
          "base_uri": "https://localhost:8080/"
        },
        "id": "-JHwt3jHuuRp",
        "outputId": "b8868837-a24c-4bd9-f9f9-606abfee5c8b"
      },
      "execution_count": null,
      "outputs": [
        {
          "output_type": "stream",
          "name": "stdout",
          "text": [
            "Enter first number: 50\n",
            "Enter second number: 66\n",
            "Maximum number is: 66\n"
          ]
        }
      ]
    },
    {
      "cell_type": "markdown",
      "source": [
        "2. Program to print maximum among three numbers."
      ],
      "metadata": {
        "id": "UEJgPfWEvBa9"
      }
    },
    {
      "cell_type": "code",
      "source": [
        "a = int(input(\"Enter first number: \"))\n",
        "b = int(input(\"Enter second number: \"))\n",
        "c = int(input(\"Enter third number: \"))\n",
        "\n",
        "if a >= b and a >= c:\n",
        "    print(\"Maximum number is:\", a)\n",
        "elif b >= a and b >= c:\n",
        "    print(\"Maximum number is:\", b)\n",
        "else:\n",
        "    print(\"Maximum number is:\", c)\n"
      ],
      "metadata": {
        "colab": {
          "base_uri": "https://localhost:8080/"
        },
        "id": "7WuMIsU-vGBv",
        "outputId": "b6ee83a8-cd6e-415f-8095-717d885dbb2e"
      },
      "execution_count": null,
      "outputs": [
        {
          "output_type": "stream",
          "name": "stdout",
          "text": [
            "Enter first number: 15\n",
            "Enter second number: 20\n",
            "Enter third number: 21\n",
            "Maximum number is: 21\n"
          ]
        }
      ]
    },
    {
      "cell_type": "markdown",
      "source": [
        "3. Program to check whether a given number is divisible by 3 or not."
      ],
      "metadata": {
        "id": "PMK6dzycvQaJ"
      }
    },
    {
      "cell_type": "code",
      "source": [
        "number = int(input(\"Enter a number: \"))\n",
        "if number % 3 == 0:\n",
        "    print(\"Divisible by 3\")\n",
        "else:\n",
        "    print(\"Not divisible by 3\")\n"
      ],
      "metadata": {
        "colab": {
          "base_uri": "https://localhost:8080/"
        },
        "id": "a8twYeizvT_a",
        "outputId": "5acfef12-9146-457c-cbad-062c7d5f4083"
      },
      "execution_count": null,
      "outputs": [
        {
          "output_type": "stream",
          "name": "stdout",
          "text": [
            "Enter a number: 89\n",
            "Not divisible by 3\n"
          ]
        }
      ]
    },
    {
      "cell_type": "markdown",
      "source": [
        "4. Program to check whether a given number is divisible by 5 or not.\n"
      ],
      "metadata": {
        "id": "Ug85Jf3SvoJZ"
      }
    },
    {
      "cell_type": "code",
      "source": [
        "number = int(input(\"Enter a number: \"))\n",
        "if number % 5 == 0:\n",
        "    print(\"Divisible by 5\")\n",
        "else:\n",
        "    print(\"Not divisible by 5\")\n"
      ],
      "metadata": {
        "colab": {
          "base_uri": "https://localhost:8080/"
        },
        "id": "uA1W_bxrv4ZJ",
        "outputId": "6b163b77-8770-40a0-fd9e-5873b545aa51"
      },
      "execution_count": null,
      "outputs": [
        {
          "output_type": "stream",
          "name": "stdout",
          "text": [
            "Enter a number: 65\n",
            "Divisible by 5\n"
          ]
        }
      ]
    },
    {
      "cell_type": "markdown",
      "source": [
        "5. Program to check whether a given number is divisible by 11 or not."
      ],
      "metadata": {
        "id": "eJdjvUgHwHGD"
      }
    },
    {
      "cell_type": "code",
      "source": [
        "num = int(input(\"Enter a number: \"))\n",
        "if num % 11 == 0:\n",
        "    print(\"Divisible by 11\")\n",
        "else:\n",
        "    print(\"Not divisible by 11\")\n"
      ],
      "metadata": {
        "id": "q0A48VnOwHx-"
      },
      "execution_count": null,
      "outputs": []
    },
    {
      "cell_type": "markdown",
      "source": [
        "6. Program to check whether a given number is even or odd."
      ],
      "metadata": {
        "id": "OC2izkRvwNC4"
      }
    },
    {
      "cell_type": "code",
      "source": [
        "num = int(input(\"Enter a number: \"))\n",
        "if num % 2 == 0:\n",
        "    print(\"Even number\")\n",
        "else:\n",
        "    print(\"Odd number\")\n"
      ],
      "metadata": {
        "colab": {
          "base_uri": "https://localhost:8080/"
        },
        "id": "P-Al4DnqwQ2N",
        "outputId": "1ce9d629-4156-473b-a369-22c9f5b44a4e"
      },
      "execution_count": null,
      "outputs": [
        {
          "output_type": "stream",
          "name": "stdout",
          "text": [
            "Enter a number: 0\n",
            "Even number\n"
          ]
        }
      ]
    },
    {
      "cell_type": "markdown",
      "source": [
        "7. Program to check whether a year is a leap year or not."
      ],
      "metadata": {
        "id": "IOLVLmIOxRzc"
      }
    },
    {
      "cell_type": "code",
      "source": [
        "year = int(input(\"Enter a year: \"))\n",
        "if (year % 4 == 0 and year % 100 != 0) or (year % 400 == 0):\n",
        "    print(\"Leap year\")\n",
        "else:\n",
        "    print(\"Not a leap year\")\n"
      ],
      "metadata": {
        "colab": {
          "base_uri": "https://localhost:8080/"
        },
        "id": "LJV5ushixVH0",
        "outputId": "bcae4500-ddaf-4f39-8fe0-df7228ae2fa3"
      },
      "execution_count": null,
      "outputs": [
        {
          "output_type": "stream",
          "name": "stdout",
          "text": [
            "Enter a year: 2028\n",
            "Leap year\n"
          ]
        }
      ]
    },
    {
      "cell_type": "markdown",
      "source": [
        "8. Program to check whether a given input is digit or not.\n"
      ],
      "metadata": {
        "id": "p5MjMk-PxjM8"
      }
    },
    {
      "cell_type": "code",
      "source": [
        "ch = input(\"Enter any character: \")\n",
        "\n",
        "if ch.isdigit():\n",
        "    print(\"It is a digit\")\n",
        "else:\n",
        "    print(\"It is not a digit\")\n"
      ],
      "metadata": {
        "colab": {
          "base_uri": "https://localhost:8080/"
        },
        "id": "_G1E9uOgxiXm",
        "outputId": "6ba1307f-e4e1-47be-fb8a-31fd5c3f0933"
      },
      "execution_count": null,
      "outputs": [
        {
          "output_type": "stream",
          "name": "stdout",
          "text": [
            "Enter any character: 12\n",
            "It is a digit\n"
          ]
        }
      ]
    },
    {
      "cell_type": "markdown",
      "source": [
        "9. Program to check whether a given input is the alphabet or not."
      ],
      "metadata": {
        "id": "CujR3vDBx2JR"
      }
    },
    {
      "cell_type": "code",
      "source": [
        "ch = input(\"Enter any character: \")\n",
        "\n",
        "if ch.isalpha():\n",
        "    print(\"It is an alphabet\")\n",
        "else:\n",
        "    print(\"It is not an alphabet\")\n"
      ],
      "metadata": {
        "id": "EmfrXMcjx6Tu"
      },
      "execution_count": null,
      "outputs": []
    },
    {
      "cell_type": "markdown",
      "source": [
        "10. Program to check whether a given number is a positive or negative number."
      ],
      "metadata": {
        "id": "oIQOxQjVx-7u"
      }
    },
    {
      "cell_type": "code",
      "source": [
        "num = int(input(\"Enter a number: \"))\n",
        "\n",
        "if num > 0:\n",
        "    print(\"Positive number\")\n",
        "elif num < 0:\n",
        "    print(\"Negative number\")\n",
        "else:\n",
        "    print(\"Number is zero\")\n"
      ],
      "metadata": {
        "colab": {
          "base_uri": "https://localhost:8080/"
        },
        "id": "jb8nAUfzyCRi",
        "outputId": "638292aa-c784-4259-d0df-e6fbe8fc5dd6"
      },
      "execution_count": null,
      "outputs": [
        {
          "output_type": "stream",
          "name": "stdout",
          "text": [
            "Enter a number: -999\n",
            "Negative number\n"
          ]
        }
      ]
    },
    {
      "cell_type": "markdown",
      "source": [
        "11. Program to check whether a character is a vowel or consonant."
      ],
      "metadata": {
        "id": "t8CNa8cdyK-q"
      }
    },
    {
      "cell_type": "code",
      "source": [
        "ch = input(\"Enter an alphabet: \").lower()\n",
        "\n",
        "if ch in ('a', 'e', 'i', 'o', 'u'):\n",
        "    print(\"Vowel\")\n",
        "else:\n",
        "    print(\"Consonant\")\n"
      ],
      "metadata": {
        "colab": {
          "base_uri": "https://localhost:8080/"
        },
        "id": "OR5yT5vvyOur",
        "outputId": "a8a1dece-88c2-4a50-a7d1-6d1bdb540e0d"
      },
      "execution_count": null,
      "outputs": [
        {
          "output_type": "stream",
          "name": "stdout",
          "text": [
            "Enter an alphabet: U\n",
            "Vowel\n"
          ]
        }
      ]
    },
    {
      "cell_type": "markdown",
      "source": [
        "12. Program to check whether a given character is uppercase or lowercase."
      ],
      "metadata": {
        "id": "DK0Sat6Pyibw"
      }
    },
    {
      "cell_type": "code",
      "source": [
        "ch = input(\"Enter a character: \")\n",
        "\n",
        "if ch.isupper():\n",
        "    print(\"Uppercase letter\")\n",
        "elif ch.islower():\n",
        "    print(\"Lowercase letter\")\n",
        "else:\n",
        "    print(\"Not an alphabet\")\n"
      ],
      "metadata": {
        "id": "lwKxzQUoyns-"
      },
      "execution_count": null,
      "outputs": []
    },
    {
      "cell_type": "markdown",
      "source": [
        "13. Program to check whether a person is valid for vote or not?"
      ],
      "metadata": {
        "id": "xuT91AjeyqvP"
      }
    },
    {
      "cell_type": "code",
      "source": [
        "age = int(input(\"Enter your age: \"))\n",
        "\n",
        "if age >= 18:\n",
        "    print(\"Eligible for voting\")\n",
        "else:\n",
        "    print(\"Not eligible for voting\")\n"
      ],
      "metadata": {
        "colab": {
          "base_uri": "https://localhost:8080/"
        },
        "id": "q_frzj8gyvdH",
        "outputId": "e78afbbc-3489-4a6e-c50f-7e50362f3df4"
      },
      "execution_count": null,
      "outputs": [
        {
          "output_type": "stream",
          "name": "stdout",
          "text": [
            "Enter your age: 17\n",
            "Not eligible for voting\n"
          ]
        }
      ]
    },
    {
      "cell_type": "markdown",
      "source": [
        "14. Write a programs to display “Hello” if a number entered by user is Multiple of 5 otherwise print \"Bye\".\n",
        "\n"
      ],
      "metadata": {
        "id": "47e4j1yny6WB"
      }
    },
    {
      "cell_type": "code",
      "source": [
        "number = int(input(\"Enter a number: \"))\n",
        "\n",
        "if number % 5 == 0:\n",
        "    print(\"Hello\")\n",
        "else:\n",
        "    print(\"Bye\")\n"
      ],
      "metadata": {
        "colab": {
          "base_uri": "https://localhost:8080/"
        },
        "id": "PhGQCxAfzGz-",
        "outputId": "0737f34b-c830-45ff-f407-cd60ec95f83a"
      },
      "execution_count": null,
      "outputs": [
        {
          "output_type": "stream",
          "name": "stdout",
          "text": [
            "Enter a number: 6\n",
            "Bye\n"
          ]
        }
      ]
    },
    {
      "cell_type": "markdown",
      "source": [
        "15. Write a programs to Display Last Digit OF Number"
      ],
      "metadata": {
        "id": "oTKfxVDGzYyZ"
      }
    },
    {
      "cell_type": "code",
      "source": [
        "number = int(input(\"Enter a number: \"))\n",
        "last_digit = number % 10\n",
        "print(\"Last digit:\", last_digit)\n"
      ],
      "metadata": {
        "colab": {
          "base_uri": "https://localhost:8080/"
        },
        "id": "JOUpl5xwzeHK",
        "outputId": "49fe1233-b36d-479a-ec28-d4c16df39ab4"
      },
      "execution_count": null,
      "outputs": [
        {
          "output_type": "stream",
          "name": "stdout",
          "text": [
            "Enter a number: 9\n",
            "Last digit: 9\n"
          ]
        }
      ]
    },
    {
      "cell_type": "markdown",
      "source": [
        "16. Write a programs to check weather the last digit of number(Enter By user ) is divisible by 3 or not"
      ],
      "metadata": {
        "id": "NwpqRG-fzrm6"
      }
    },
    {
      "cell_type": "code",
      "source": [
        "num = int(input(\"Enter a number: \"))\n",
        "last_digit = num % 10\n",
        "\n",
        "if last_digit % 3 == 0:\n",
        "    print(\"Last digit is divisible by 3\")\n",
        "else:\n",
        "    print(\"Last digit is not divisible by 3\")\n"
      ],
      "metadata": {
        "id": "zigOYnvNzwqT"
      },
      "execution_count": null,
      "outputs": []
    },
    {
      "cell_type": "markdown",
      "source": [
        "17. Write a programs to accept a number from 1 to 7 and display the name"
      ],
      "metadata": {
        "id": "iVns48X0z3XB"
      }
    },
    {
      "cell_type": "code",
      "source": [
        "day = int(input(\"Enter a number (1-7): \"))\n",
        "\n",
        "if day == 1:\n",
        "    print(\"Sunday\")\n",
        "elif day == 2:\n",
        "    print(\"Monday\")\n",
        "elif day == 3:\n",
        "    print(\"Tuesday\")\n",
        "elif day == 4:\n",
        "    print(\"Wednesday\")\n",
        "elif day == 5:\n",
        "    print(\"Thursday\")\n",
        "elif day == 6:\n",
        "    print(\"Friday\")\n",
        "elif day == 7:\n",
        "    print(\"Saturday\")\n",
        "else:\n",
        "    print(\"Invalid input\")\n"
      ],
      "metadata": {
        "colab": {
          "base_uri": "https://localhost:8080/",
          "height": 356
        },
        "id": "uwTaW8vnz7KF",
        "outputId": "6a68c548-5965-4249-f564-0943b011e077"
      },
      "execution_count": null,
      "outputs": [
        {
          "output_type": "error",
          "ename": "KeyboardInterrupt",
          "evalue": "Interrupted by user",
          "traceback": [
            "\u001b[0;31m---------------------------------------------------------------------------\u001b[0m",
            "\u001b[0;31mKeyboardInterrupt\u001b[0m                         Traceback (most recent call last)",
            "\u001b[0;32m/tmp/ipython-input-4034410739.py\u001b[0m in \u001b[0;36m<cell line: 0>\u001b[0;34m()\u001b[0m\n\u001b[0;32m----> 1\u001b[0;31m \u001b[0mday\u001b[0m \u001b[0;34m=\u001b[0m \u001b[0mint\u001b[0m\u001b[0;34m(\u001b[0m\u001b[0minput\u001b[0m\u001b[0;34m(\u001b[0m\u001b[0;34m\"Enter a number (1-7): \"\u001b[0m\u001b[0;34m)\u001b[0m\u001b[0;34m)\u001b[0m\u001b[0;34m\u001b[0m\u001b[0;34m\u001b[0m\u001b[0m\n\u001b[0m\u001b[1;32m      2\u001b[0m \u001b[0;34m\u001b[0m\u001b[0m\n\u001b[1;32m      3\u001b[0m \u001b[0;32mif\u001b[0m \u001b[0mday\u001b[0m \u001b[0;34m==\u001b[0m \u001b[0;36m1\u001b[0m\u001b[0;34m:\u001b[0m\u001b[0;34m\u001b[0m\u001b[0;34m\u001b[0m\u001b[0m\n\u001b[1;32m      4\u001b[0m     \u001b[0mprint\u001b[0m\u001b[0;34m(\u001b[0m\u001b[0;34m\"Sunday\"\u001b[0m\u001b[0;34m)\u001b[0m\u001b[0;34m\u001b[0m\u001b[0;34m\u001b[0m\u001b[0m\n\u001b[1;32m      5\u001b[0m \u001b[0;32melif\u001b[0m \u001b[0mday\u001b[0m \u001b[0;34m==\u001b[0m \u001b[0;36m2\u001b[0m\u001b[0;34m:\u001b[0m\u001b[0;34m\u001b[0m\u001b[0;34m\u001b[0m\u001b[0m\n",
            "\u001b[0;32m/usr/local/lib/python3.12/dist-packages/ipykernel/kernelbase.py\u001b[0m in \u001b[0;36mraw_input\u001b[0;34m(self, prompt)\u001b[0m\n\u001b[1;32m   1175\u001b[0m                 \u001b[0;34m\"raw_input was called, but this frontend does not support input requests.\"\u001b[0m\u001b[0;34m\u001b[0m\u001b[0;34m\u001b[0m\u001b[0m\n\u001b[1;32m   1176\u001b[0m             )\n\u001b[0;32m-> 1177\u001b[0;31m         return self._input_request(\n\u001b[0m\u001b[1;32m   1178\u001b[0m             \u001b[0mstr\u001b[0m\u001b[0;34m(\u001b[0m\u001b[0mprompt\u001b[0m\u001b[0;34m)\u001b[0m\u001b[0;34m,\u001b[0m\u001b[0;34m\u001b[0m\u001b[0;34m\u001b[0m\u001b[0m\n\u001b[1;32m   1179\u001b[0m             \u001b[0mself\u001b[0m\u001b[0;34m.\u001b[0m\u001b[0m_parent_ident\u001b[0m\u001b[0;34m[\u001b[0m\u001b[0;34m\"shell\"\u001b[0m\u001b[0;34m]\u001b[0m\u001b[0;34m,\u001b[0m\u001b[0;34m\u001b[0m\u001b[0;34m\u001b[0m\u001b[0m\n",
            "\u001b[0;32m/usr/local/lib/python3.12/dist-packages/ipykernel/kernelbase.py\u001b[0m in \u001b[0;36m_input_request\u001b[0;34m(self, prompt, ident, parent, password)\u001b[0m\n\u001b[1;32m   1217\u001b[0m             \u001b[0;32mexcept\u001b[0m \u001b[0mKeyboardInterrupt\u001b[0m\u001b[0;34m:\u001b[0m\u001b[0;34m\u001b[0m\u001b[0;34m\u001b[0m\u001b[0m\n\u001b[1;32m   1218\u001b[0m                 \u001b[0;31m# re-raise KeyboardInterrupt, to truncate traceback\u001b[0m\u001b[0;34m\u001b[0m\u001b[0;34m\u001b[0m\u001b[0m\n\u001b[0;32m-> 1219\u001b[0;31m                 \u001b[0;32mraise\u001b[0m \u001b[0mKeyboardInterrupt\u001b[0m\u001b[0;34m(\u001b[0m\u001b[0;34m\"Interrupted by user\"\u001b[0m\u001b[0;34m)\u001b[0m \u001b[0;32mfrom\u001b[0m \u001b[0;32mNone\u001b[0m\u001b[0;34m\u001b[0m\u001b[0;34m\u001b[0m\u001b[0m\n\u001b[0m\u001b[1;32m   1220\u001b[0m             \u001b[0;32mexcept\u001b[0m \u001b[0mException\u001b[0m\u001b[0;34m:\u001b[0m\u001b[0;34m\u001b[0m\u001b[0;34m\u001b[0m\u001b[0m\n\u001b[1;32m   1221\u001b[0m                 \u001b[0mself\u001b[0m\u001b[0;34m.\u001b[0m\u001b[0mlog\u001b[0m\u001b[0;34m.\u001b[0m\u001b[0mwarning\u001b[0m\u001b[0;34m(\u001b[0m\u001b[0;34m\"Invalid Message:\"\u001b[0m\u001b[0;34m,\u001b[0m \u001b[0mexc_info\u001b[0m\u001b[0;34m=\u001b[0m\u001b[0;32mTrue\u001b[0m\u001b[0;34m)\u001b[0m\u001b[0;34m\u001b[0m\u001b[0;34m\u001b[0m\u001b[0m\n",
            "\u001b[0;31mKeyboardInterrupt\u001b[0m: Interrupted by user"
          ]
        }
      ]
    },
    {
      "cell_type": "markdown",
      "source": [
        "18. Write a program to check whether a person is a senior citizen or not."
      ],
      "metadata": {
        "id": "1l-Hpe6v0ErZ"
      }
    },
    {
      "cell_type": "code",
      "source": [
        "age = int(input(\"Enter your age: \"))\n",
        "\n",
        "if age >= 60:\n",
        "    print(\"Senior citizen\")\n",
        "else:\n",
        "    print(\"Not a senior citizen\")\n"
      ],
      "metadata": {
        "id": "wBqfV45z0EVn"
      },
      "execution_count": null,
      "outputs": []
    },
    {
      "cell_type": "markdown",
      "source": [
        "19. Accept the age of 4 people and display the youngest one. Python code"
      ],
      "metadata": {
        "id": "ajkJgRD50NCW"
      }
    },
    {
      "cell_type": "code",
      "source": [
        "a = int(input(\"Enter age of person 1: \"))\n",
        "b = int(input(\"Enter age of person 2: \"))\n",
        "c = int(input(\"Enter age of person 3: \"))\n",
        "d = int(input(\"Enter age of person 4: \"))\n",
        "\n",
        "youngest = min(a, b, c, d)\n",
        "print(\"The youngest age is:\", youngest)"
      ],
      "metadata": {
        "colab": {
          "base_uri": "https://localhost:8080/"
        },
        "id": "8Ha2_zlA0Xwx",
        "outputId": "e96b81db-56b9-4792-df54-4fc40ed9cbd0"
      },
      "execution_count": null,
      "outputs": [
        {
          "output_type": "stream",
          "name": "stdout",
          "text": [
            "Enter age of person 1: 33\n",
            "Enter age of person 2: 44\n",
            "Enter age of person 3: 55\n",
            "Enter age of person 4: 66\n",
            "The youngest age is: 33\n"
          ]
        }
      ]
    },
    {
      "cell_type": "markdown",
      "source": [
        "20.A company decided to give to employee according to following criteria.\n",
        "Time period of services        Bonus\n",
        "More than 10 Years              10%\n",
        ">=6 and <=10                    8%\n",
        "less than 6 years                5%\n",
        "Ask user for their Salary and years of services and print the net bouns amount\n"
      ],
      "metadata": {
        "id": "RL6Ik7yS1L8T"
      }
    },
    {
      "cell_type": "code",
      "source": [
        "salary= float(input(\"Enter your salary: \"))\n",
        "years=int(input(\"Enter your years of services: \"))\n",
        "if years>10:\n",
        "  bonus=0.10*salary\n",
        "elif years >=6 and years <=10:\n",
        "  bonus=0.08*salary\n",
        "else:\n",
        "  bonus=0.05*salary\n",
        "print(\"Net bonus amount:\",bonus)"
      ],
      "metadata": {
        "colab": {
          "base_uri": "https://localhost:8080/"
        },
        "id": "I2Ol4dMC2Fhx",
        "outputId": "8219806f-bd96-4399-8ab6-b138def5a48b"
      },
      "execution_count": null,
      "outputs": [
        {
          "output_type": "stream",
          "name": "stdout",
          "text": [
            "Enter your salary: 10000\n",
            "Enter your years of services: 1\n",
            "Net bonus amount: 500.0\n"
          ]
        }
      ]
    },
    {
      "cell_type": "markdown",
      "source": [
        "21. Write a program to accept the cost price of bike and display the road tax paid according to the following criteria:\n",
        "cost price(in rs)        tax\n",
        ">=1000000                 15%\n",
        ">50000 and <=1000000       10%\n",
        "<=50000                   5%"
      ],
      "metadata": {
        "id": "kED7y0318f_E"
      }
    },
    {
      "cell_type": "code",
      "source": [
        "cost_price = float(input(\"Enter the cost price of the bike (in Rs): \"))\n",
        "\n",
        "if cost_price >= 1000000:\n",
        "    tax_rate = 0.15\n",
        "elif cost_price > 50000:\n",
        "    tax_rate = 0.10\n",
        "else:\n",
        "    tax_rate = 0.05\n",
        "\n",
        "road_tax = cost_price * tax_rate\n",
        "print(f\"Road tax to be paid: Rs {road_tax:.2f}\")"
      ],
      "metadata": {
        "colab": {
          "base_uri": "https://localhost:8080/"
        },
        "id": "AfrQ6OPk_DY6",
        "outputId": "5330e1a5-571c-4419-9270-d3ce388223c1"
      },
      "execution_count": null,
      "outputs": [
        {
          "output_type": "stream",
          "name": "stdout",
          "text": [
            "Enter the cost price of the bike (in Rs): 1000000\n",
            "Road tax to be paid: Rs 150000.00\n"
          ]
        }
      ]
    },
    {
      "cell_type": "markdown",
      "source": [
        "21. Write a program to two numbers and mathmatical operators and perform operation accordingly.\n",
        "like:\n",
        "Enter first number:7\n",
        "Enter second number:9\n",
        "Enter operator:+\n",
        "Your answer:16"
      ],
      "metadata": {
        "id": "BaxkODvR_gRG"
      }
    },
    {
      "cell_type": "code",
      "source": [
        "number1 = float(input(\"Enter first number: \"))\n",
        "number2 = float(input(\"Enter second number: \"))\n",
        "operator = input(\"Enter operator (+, -, *, /): \")\n",
        "if operator == '+':\n",
        "    result = number1 + number2\n",
        "elif operator == '-':\n",
        "    result = number1 - number2\n",
        "elif operator == '*':\n",
        "    result = number1 * number2\n",
        "elif operator == '/':\n",
        "    if number2 != 0:\n",
        "        result = number1 / number2\n",
        "    else:\n",
        "        print(\"Error: Division by zero is not allowed\")\n",
        "        exit()\n",
        "else:\n",
        "    print(\"Error: Invalid operator\")\n",
        "    exit()\n",
        "\n",
        "print(f\"Your answer: {result}\")"
      ],
      "metadata": {
        "colab": {
          "base_uri": "https://localhost:8080/"
        },
        "id": "7x_GExF6AHED",
        "outputId": "abb44895-b3da-4d6d-b0ef-aec11524aa5b"
      },
      "execution_count": null,
      "outputs": [
        {
          "output_type": "stream",
          "name": "stdout",
          "text": [
            "Enter first number: 50\n",
            "Enter second number: 60\n",
            "Enter operator (+, -, *, /): +\n",
            "Your answer: 110.0\n"
          ]
        }
      ]
    },
    {
      "cell_type": "markdown",
      "source": [
        "22. Accept the kilometer covered and calculate the bill according to the following criteria:\n",
        "first 10km     rs.11/km\n",
        "next 90km      rs.10/km\n",
        "After that      rs.9/km"
      ],
      "metadata": {
        "id": "d8VeAUZCA4RI"
      }
    },
    {
      "cell_type": "code",
      "source": [
        "def calculate_bill(km):\n",
        "    if km < 0:\n",
        "        return \"Distance cannot be negative\"\n",
        "\n",
        "    bill = 0\n",
        "\n",
        "    if km <= 10:\n",
        "        bill = km * 11\n",
        "    elif km <= 100:\n",
        "        bill = 10 * 11 + (km - 10) * 10\n",
        "    else:\n",
        "        bill = 10 * 11 + 90 * 10 + (km - 100) * 9\n",
        "\n",
        "    return f\"Total bill for {km} km is Rs. {bill:.2f}\"\n",
        "distance = float(input(\"Enter the distance covered in kilometers: \"))\n",
        "print(calculate_bill(distance))\n"
      ],
      "metadata": {
        "colab": {
          "base_uri": "https://localhost:8080/"
        },
        "id": "OZGyDuKuB2Mr",
        "outputId": "78a14f68-ab58-4863-e649-3ef135094b04"
      },
      "execution_count": null,
      "outputs": [
        {
          "output_type": "stream",
          "name": "stdout",
          "text": [
            "Enter the distance covered in kilometers: 100\n",
            "Total bill for 100.0 km is Rs. 1010.00\n"
          ]
        }
      ]
    },
    {
      "cell_type": "markdown",
      "source": [
        "23. Write a program to input electricity unit charges and calculate total electricity bill according to\n",
        "the given condition:\n",
        "For first 50 units Rs. 0.50/unit\n",
        "For next 100 units Rs. 0.75/unit\n",
        "For next 100 units Rs. 1.20/unit\n",
        "For unit above 250 Rs. 1.50/unit\n",
        "An additional surcharge of 20% is added to the bill"
      ],
      "metadata": {
        "id": "N49wGEAaC__6"
      }
    },
    {
      "cell_type": "code",
      "source": [
        "def calculate_electricity_bill(units):\n",
        "\n",
        "    bill = 0\n",
        "    if units <= 50:\n",
        "        bill = units * 0.50\n",
        "    elif units <= 150:\n",
        "        bill = (50 * 0.50) + ((units - 50) * 0.75)\n",
        "    elif units <= 250:\n",
        "        bill = (50 * 0.50) + (100 * 0.75) + ((units - 150) * 1.20)\n",
        "    else:\n",
        "        bill = (50 * 0.50) + (100 * 0.75) + (100 * 1.20) + ((units - 250) * 1.50)\n",
        "    surcharge = bill * 0.20\n",
        "    total_bill = bill + surcharge\n",
        "\n",
        "    return total_bill\n",
        "try:\n",
        "    units = float(input(\"Enter electricity units consumed: \"))\n",
        "\n",
        "    if units < 0:\n",
        "        print(\"Units cannot be negative!\")\n",
        "    else:\n",
        "        total = calculate_electricity_bill(units)\n",
        "        print(f\"Total Electricity Bill: Rs. {total:.2f}\")\n",
        "\n",
        "except ValueError:\n",
        "    print(\"Please enter a valid number!\")"
      ],
      "metadata": {
        "colab": {
          "base_uri": "https://localhost:8080/"
        },
        "id": "naYmqCvxD2KS",
        "outputId": "98357397-35c2-4e4f-d2d3-cf5edcc6c17f"
      },
      "execution_count": null,
      "outputs": [
        {
          "output_type": "stream",
          "name": "stdout",
          "text": [
            "Enter electricity units consumed: 500\n",
            "Total Electricity Bill: Rs. 714.00\n"
          ]
        }
      ]
    },
    {
      "cell_type": "markdown",
      "source": [
        "24. Write a program to input marks of five subjects Physics, Chemistry, Biology, Mathematics and\n",
        "Computer. Calculate percentage and grade according to following:\n",
        "Percentage >= 90% : Grade A\n",
        "Percentage >= 80% : Grade B\n",
        "Percentage >= 70% : Grade C\n",
        "Percentage >= 60% : Grade D\n",
        "Percentage >= 40% : Grade E\n",
        "Percentage < 40% : Grade F"
      ],
      "metadata": {
        "id": "TeJAWOmpEknK"
      }
    },
    {
      "cell_type": "code",
      "source": [
        "physics = float(input(\"Enter Physics marks: \"))\n",
        "chemistry = float(input(\"Enter Chemistry marks: \"))\n",
        "biology = float(input(\"Enter Biology marks: \"))\n",
        "mathematics = float(input(\"Enter Mathematics marks: \"))\n",
        "computer = float(input(\"Enter Computer marks: \"))\n",
        "\n",
        "total_marks = physics + chemistry + biology + mathematics + computer\n",
        "percentage = (total_marks / 500) * 100\n",
        "\n",
        "if percentage >= 90:\n",
        "    grade = 'A'\n",
        "elif percentage >= 80:\n",
        "    grade = 'B'\n",
        "elif percentage >= 70:\n",
        "    grade = 'C'\n",
        "elif percentage >= 60:\n",
        "    grade = 'D'\n",
        "elif percentage >= 40:\n",
        "    grade = 'E'\n",
        "else:\n",
        "    grade = 'F'\n",
        "\n",
        "print(f\"Total Marks: {total_marks}\")\n",
        "print(f\"Percentage: {percentage:.2f}%\")\n",
        "print(f\"Grade: {grade}\")"
      ],
      "metadata": {
        "colab": {
          "base_uri": "https://localhost:8080/"
        },
        "id": "t1spUPkwFcwR",
        "outputId": "a69a8567-efb8-4646-dc37-5aa8447c0260"
      },
      "execution_count": null,
      "outputs": [
        {
          "output_type": "stream",
          "name": "stdout",
          "text": [
            "Enter Physics marks: 55\n",
            "Enter Chemistry marks: 60\n",
            "Enter Biology marks: 78\n",
            "Enter Mathematics marks: 98\n",
            "Enter Computer marks: 99\n",
            "Total Marks: 390.0\n",
            "Percentage: 78.00%\n",
            "Grade: C\n"
          ]
        }
      ]
    },
    {
      "cell_type": "markdown",
      "source": [
        " 25. Print all even numbers between 1 to 100 using a for loop"
      ],
      "metadata": {
        "id": "puK3drOQFrW4"
      }
    },
    {
      "cell_type": "code",
      "source": [
        "for i in range(2, 101, 2):\n",
        "    print(i, end=\" \")"
      ],
      "metadata": {
        "colab": {
          "base_uri": "https://localhost:8080/"
        },
        "id": "6E9f3zKRGTif",
        "outputId": "7150c397-5fb3-45cb-a624-4111cef9f65d"
      },
      "execution_count": null,
      "outputs": [
        {
          "output_type": "stream",
          "name": "stdout",
          "text": [
            "2 4 6 8 10 12 14 16 18 20 22 24 26 28 30 32 34 36 38 40 42 44 46 48 50 52 54 56 58 60 62 64 66 68 70 72 74 76 78 80 82 84 86 88 90 92 94 96 98 100 "
          ]
        }
      ]
    },
    {
      "cell_type": "markdown",
      "source": [
        "26. Print all odd numbers between 1 to 100 using a for loop"
      ],
      "metadata": {
        "id": "w8nkjSE6GZ3v"
      }
    },
    {
      "cell_type": "code",
      "source": [
        "for i in range(1, 101, 2):\n",
        "    print(i, end=\" \")"
      ],
      "metadata": {
        "colab": {
          "base_uri": "https://localhost:8080/"
        },
        "id": "bly9WtBoGnM4",
        "outputId": "809df136-357c-46e5-8abf-a6f5bf10d2ec"
      },
      "execution_count": null,
      "outputs": [
        {
          "output_type": "stream",
          "name": "stdout",
          "text": [
            "1 3 5 7 9 11 13 15 17 19 21 23 25 27 29 31 33 35 37 39 41 43 45 47 49 51 53 55 57 59 61 63 65 67 69 71 73 75 77 79 81 83 85 87 89 91 93 95 97 99 "
          ]
        }
      ]
    },
    {
      "cell_type": "markdown",
      "source": [
        "27. Print sum of all even numbers between 1 to 100 using a for loop"
      ],
      "metadata": {
        "id": "4HmG5x31G08S"
      }
    },
    {
      "cell_type": "code",
      "source": [
        "sum_even = 0\n",
        "for i in range(2, 101, 2):\n",
        "    sum_even += i\n",
        "print(f\"Sum of even numbers: {sum_even}\")"
      ],
      "metadata": {
        "colab": {
          "base_uri": "https://localhost:8080/"
        },
        "id": "X2D1zAnSGswR",
        "outputId": "0558d29d-04a5-4e46-f4d2-d7e0d68a7440"
      },
      "execution_count": null,
      "outputs": [
        {
          "output_type": "stream",
          "name": "stdout",
          "text": [
            "Sum of even numbers: 2550\n"
          ]
        }
      ]
    },
    {
      "cell_type": "markdown",
      "source": [
        "28. Print sum of all odd numbers between 1 to 100 using a for loop"
      ],
      "metadata": {
        "id": "x1ycXxUbG8bB"
      }
    },
    {
      "cell_type": "code",
      "source": [
        "sum_odd = 0\n",
        "for i in range(1, 101, 2):\n",
        "    sum_odd += i\n",
        "print(f\"Sum of odd numbers: {sum_odd}\")"
      ],
      "metadata": {
        "id": "QLmXUudbGzbv"
      },
      "execution_count": null,
      "outputs": []
    },
    {
      "cell_type": "markdown",
      "source": [
        "29. Count the digits of a given number using a for loop"
      ],
      "metadata": {
        "id": "bpPd0t1KHCkK"
      }
    },
    {
      "cell_type": "code",
      "source": [
        "num = int(input(\"Enter a number: \"))\n",
        "count = 0\n",
        "num = abs(num)\n",
        "if num == 0:\n",
        "    count = 1\n",
        "else:\n",
        "    while num > 0:\n",
        "        num //= 10\n",
        "        count += 1\n",
        "print(f\"Number of digits: {count}\")"
      ],
      "metadata": {
        "colab": {
          "base_uri": "https://localhost:8080/"
        },
        "id": "599J_yfKHCJK",
        "outputId": "c32798b0-e64c-4eb4-8d71-147176c3f88e"
      },
      "execution_count": null,
      "outputs": [
        {
          "output_type": "stream",
          "name": "stdout",
          "text": [
            "Enter a number: 123\n",
            "Number of digits: 3\n"
          ]
        }
      ]
    },
    {
      "cell_type": "markdown",
      "source": [
        "30.Print sum of digits of a given number using a for loop"
      ],
      "metadata": {
        "id": "VmEYD7PHHT0G"
      }
    },
    {
      "cell_type": "code",
      "source": [
        "num = input(\"Enter a number: \")\n",
        "sum_digits = 0\n",
        "for digit in str(abs(int(num))):\n",
        "    sum_digits += int(digit)\n",
        "print(f\"Sum of digits: {sum_digits}\")"
      ],
      "metadata": {
        "id": "nxI5j3rVHhen"
      },
      "execution_count": null,
      "outputs": []
    },
    {
      "cell_type": "markdown",
      "source": [
        "31. Check whether a given number is Prime or not using a for loop"
      ],
      "metadata": {
        "id": "Yk1zpvcjHkws"
      }
    },
    {
      "cell_type": "code",
      "source": [
        "num = int(input(\"Enter a number: \"))\n",
        "if num < 2:\n",
        "    print(f\"{num} is not prime\")\n",
        "else:\n",
        "    is_prime = True\n",
        "    for i in range(2, int(num ** 0.5) + 1):\n",
        "        if num % i == 0:\n",
        "            is_prime = False\n",
        "            break\n",
        "    print(f\"{num} is {'prime' if is_prime else 'not prime'}\")"
      ],
      "metadata": {
        "colab": {
          "base_uri": "https://localhost:8080/"
        },
        "id": "WEbt2g-8Hndz",
        "outputId": "d5460367-bae5-4a70-bf0d-04492ab137ee"
      },
      "execution_count": null,
      "outputs": [
        {
          "output_type": "stream",
          "name": "stdout",
          "text": [
            "Enter a number: 146\n",
            "146 is not prime\n"
          ]
        }
      ]
    },
    {
      "cell_type": "markdown",
      "source": [
        "32. Print all Prime numbers between 1 to 100 using a for loop"
      ],
      "metadata": {
        "id": "DitJA88EH6sT"
      }
    },
    {
      "cell_type": "code",
      "source": [
        "for num in range(2, 101):\n",
        "    is_prime = True\n",
        "    for i in range(2, int(num ** 0.5) + 1):\n",
        "        if num % i == 0:\n",
        "            is_prime = False\n",
        "            break\n",
        "    if is_prime:\n",
        "        print(num, end=\" \")"
      ],
      "metadata": {
        "id": "ENA-zoqoH_8x"
      },
      "execution_count": null,
      "outputs": []
    },
    {
      "cell_type": "markdown",
      "source": [
        "33. Find the sum of all prime numbers between 1 to 100 using a for loop"
      ],
      "metadata": {
        "id": "rAwf5RQEICqR"
      }
    },
    {
      "cell_type": "code",
      "source": [
        "sum_primes = 0\n",
        "for num in range(2, 101):\n",
        "    is_prime = True\n",
        "    for i in range(2, int(num ** 0.5) + 1):\n",
        "        if num % i == 0:\n",
        "            is_prime = False\n",
        "            break\n",
        "    if is_prime:\n",
        "        sum_primes += num\n",
        "print(f\"Sum of prime numbers: {sum_primes}\")"
      ],
      "metadata": {
        "id": "vp7O7WgwIGVx"
      },
      "execution_count": null,
      "outputs": []
    },
    {
      "cell_type": "markdown",
      "source": [
        "34. Check if a given number is Armstrong or not using a for loop"
      ],
      "metadata": {
        "id": "Bf4DFaU6IVcQ"
      }
    },
    {
      "cell_type": "code",
      "source": [
        "num = int(input(\"Enter a number: \"))\n",
        "num_str = str(abs(num))\n",
        "digits = len(num_str)\n",
        "sum_powers = 0\n",
        "for digit in num_str:\n",
        "    sum_powers += int(digit) ** digits\n",
        "print(f\"{num} is {'an Armstrong number' if sum_powers == abs(num) else 'not an Armstrong number'}\")"
      ],
      "metadata": {
        "id": "U1gwPRc6IYz0"
      },
      "execution_count": null,
      "outputs": []
    },
    {
      "cell_type": "markdown",
      "source": [
        "35. Print all Armstrong numbers between 1 to n using a for loop"
      ],
      "metadata": {
        "id": "E6Sfvi0ZIbES"
      }
    },
    {
      "cell_type": "code",
      "source": [
        "n = int(input(\"Enter a number n: \"))\n",
        "for num in range(1, n + 1):\n",
        "    num_str = str(num)\n",
        "    digits = len(num_str)\n",
        "    sum_powers = 0\n",
        "    for digit in num_str:\n",
        "        sum_powers += int(digit) ** digits\n",
        "    if sum_powers == num:\n",
        "        print(num, end=\" \")"
      ],
      "metadata": {
        "colab": {
          "base_uri": "https://localhost:8080/"
        },
        "id": "VQWVqzEcIft3",
        "outputId": "92bfd5a2-b3be-4655-beb4-5b3b609f2e8b"
      },
      "execution_count": null,
      "outputs": [
        {
          "output_type": "stream",
          "name": "stdout",
          "text": [
            "Enter a number n: 6\n",
            "1 2 3 4 5 6 "
          ]
        }
      ]
    },
    {
      "cell_type": "markdown",
      "source": [
        "36. Check if a number is neon or not using a for loop"
      ],
      "metadata": {
        "id": "xW6CoAgvIkmq"
      }
    },
    {
      "cell_type": "code",
      "source": [
        "num = int(input(\"Enter a number: \"))\n",
        "square = num * num\n",
        "sum_digits = 0\n",
        "for digit in str(square):\n",
        "    sum_digits += int(digit)\n",
        "print(f\"{num} is {'a neon number' if sum_digits == num else 'not a neon number'}\")"
      ],
      "metadata": {
        "colab": {
          "base_uri": "https://localhost:8080/"
        },
        "id": "EKhbCFefInuV",
        "outputId": "7a0ce6b0-d28e-4836-b584-60caf3fcf24b"
      },
      "execution_count": null,
      "outputs": [
        {
          "output_type": "stream",
          "name": "stdout",
          "text": [
            "Enter a number: 55\n",
            "55 is not a neon number\n"
          ]
        }
      ]
    },
    {
      "cell_type": "markdown",
      "source": [
        "37. Check if a number is palindrome or not using a for loop"
      ],
      "metadata": {
        "id": "6hygMR5tI4Bu"
      }
    },
    {
      "cell_type": "code",
      "source": [
        "num = input(\"Enter a number: \")\n",
        "is_palindrome = True\n",
        "num_str = str(abs(int(num)))\n",
        "for i in range(len(num_str) // 2):\n",
        "    if num_str[i] != num_str[-(i + 1)]:\n",
        "        is_palindrome = False\n",
        "        break\n",
        "print(f\"{num} is {'a palindrome' if is_palindrome else 'not a palindrome'}\")"
      ],
      "metadata": {
        "id": "Fq4dRepMI7eo"
      },
      "execution_count": null,
      "outputs": []
    },
    {
      "cell_type": "markdown",
      "source": [
        "38. Print Fibonacci series of a given number using a for loop"
      ],
      "metadata": {
        "id": "YmQrXOT4I-AX"
      }
    },
    {
      "cell_type": "code",
      "source": [
        "n = int(input(\"Enter the number of terms: \"))\n",
        "a, b = 0, 1\n",
        "if n >= 1:\n",
        "    print(a, end=\" \")\n",
        "for _ in range(2, n + 1):\n",
        "    print(b, end=\" \")\n",
        "    a, b = b, a + b\n",
        "print()"
      ],
      "metadata": {
        "id": "6e1Lc-lLJDIV"
      },
      "execution_count": null,
      "outputs": []
    },
    {
      "cell_type": "markdown",
      "source": [
        "39. Print all alphabets from a to z using a for loop."
      ],
      "metadata": {
        "id": "V7fLrqi2JGVX"
      }
    },
    {
      "cell_type": "code",
      "source": [
        "for i in range(97, 123):\n",
        "    print(chr(i), end=\" \")"
      ],
      "metadata": {
        "id": "eTjr9UqIJLYP"
      },
      "execution_count": null,
      "outputs": []
    },
    {
      "cell_type": "markdown",
      "source": [
        "40. Print all uppercase alphabets using a for loop"
      ],
      "metadata": {
        "id": "pQ5cA8zyJTvL"
      }
    },
    {
      "cell_type": "code",
      "source": [
        "for i in range(65, 91):\n",
        "    print(chr(i), end=\" \")"
      ],
      "metadata": {
        "id": "s8KPVv7bJSNz"
      },
      "execution_count": null,
      "outputs": []
    },
    {
      "cell_type": "markdown",
      "source": [
        "41. Print first 10 even numbers using a for loop"
      ],
      "metadata": {
        "id": "S10PvofYJcPK"
      }
    },
    {
      "cell_type": "code",
      "source": [
        "count = 0\n",
        "for i in range(2, 21, 2):\n",
        "    print(i, end=\" \")\n",
        "    count += 1\n",
        "    if count == 10:\n",
        "        break"
      ],
      "metadata": {
        "id": "IqrF0OFIJf-G"
      },
      "execution_count": null,
      "outputs": []
    },
    {
      "cell_type": "markdown",
      "source": [
        "42. Print all lowercase alphabets using a for loop"
      ],
      "metadata": {
        "id": "6277ZRt1Jmgn"
      }
    },
    {
      "cell_type": "code",
      "source": [
        "for i in range(97, 123):\n",
        "    print(chr(i), end=\" \")"
      ],
      "metadata": {
        "id": "IN2fmGzZJsga"
      },
      "execution_count": null,
      "outputs": []
    },
    {
      "cell_type": "markdown",
      "source": [
        "43. Print first 10 even numbers in reverse order using a for loop"
      ],
      "metadata": {
        "id": "J_NXFZslJvNq"
      }
    },
    {
      "cell_type": "code",
      "source": [
        "even_nums = []\n",
        "for i in range(2, 21, 2):\n",
        "    even_nums.append(i)\n",
        "for num in even_nums[::-1]:\n",
        "    print(num, end=\" \")"
      ],
      "metadata": {
        "id": "epCBOfm1J0-i"
      },
      "execution_count": null,
      "outputs": []
    },
    {
      "cell_type": "markdown",
      "source": [
        "44. Print numbers from 1 to 20 except multiples of 2 and 3"
      ],
      "metadata": {
        "id": "wB8Wp_ISJ4ob"
      }
    },
    {
      "cell_type": "code",
      "source": [
        "for i in range(1, 21):\n",
        "    if i % 2 != 0 and i % 3 != 0:\n",
        "        print(i, end=\" \")"
      ],
      "metadata": {
        "id": "dU_C1_fIJ9Bw",
        "colab": {
          "base_uri": "https://localhost:8080/"
        },
        "outputId": "a9f52da2-00bb-47ea-d0fb-fabf9c1e192a"
      },
      "execution_count": null,
      "outputs": [
        {
          "output_type": "stream",
          "name": "stdout",
          "text": [
            "1 5 7 11 13 17 19 "
          ]
        }
      ]
    },
    {
      "cell_type": "markdown",
      "source": [
        "# PYTHON PATTERN QUESTIONS :"
      ],
      "metadata": {
        "id": "HEHyW9GydJld"
      }
    },
    {
      "cell_type": "markdown",
      "source": [
        "45."
      ],
      "metadata": {
        "id": "Z1y_39q9KCMi"
      }
    },
    {
      "cell_type": "code",
      "source": [
        "for i in range(1, 6):\n",
        "  for j in range(1,6):\n",
        "    print(j, end=\" \")\n",
        "  print()"
      ],
      "metadata": {
        "colab": {
          "base_uri": "https://localhost:8080/"
        },
        "id": "q6IIxp5wNfIr",
        "outputId": "1fc5e59c-b2dc-4c5a-820a-d9cf104a24af"
      },
      "execution_count": null,
      "outputs": [
        {
          "output_type": "stream",
          "name": "stdout",
          "text": [
            "1 2 3 4 5 \n",
            "1 2 3 4 5 \n",
            "1 2 3 4 5 \n",
            "1 2 3 4 5 \n",
            "1 2 3 4 5 \n"
          ]
        }
      ]
    },
    {
      "cell_type": "markdown",
      "source": [
        "46."
      ],
      "metadata": {
        "id": "mX-TSa_1OBDV"
      }
    },
    {
      "cell_type": "code",
      "source": [
        "for i in range(1, 6):\n",
        "  for j in range(1,6):\n",
        "    print(i, end=\" \")\n",
        "  print()"
      ],
      "metadata": {
        "colab": {
          "base_uri": "https://localhost:8080/"
        },
        "id": "jXUsvRNjOCgM",
        "outputId": "87c5e32b-59b6-4ffa-ccd0-873248ac6384"
      },
      "execution_count": null,
      "outputs": [
        {
          "output_type": "stream",
          "name": "stdout",
          "text": [
            "1 1 1 1 1 \n",
            "2 2 2 2 2 \n",
            "3 3 3 3 3 \n",
            "4 4 4 4 4 \n",
            "5 5 5 5 5 \n"
          ]
        }
      ]
    },
    {
      "cell_type": "markdown",
      "source": [
        "47."
      ],
      "metadata": {
        "id": "ShGChHXROfNo"
      }
    },
    {
      "cell_type": "code",
      "source": [
        "for i in range(5,0,-1):\n",
        "  for j in range (5,0,-1):\n",
        "    print(j,end=\" \")\n",
        "  print()"
      ],
      "metadata": {
        "colab": {
          "base_uri": "https://localhost:8080/"
        },
        "id": "o07N30k4OgoW",
        "outputId": "092b2d32-db4d-49af-a43c-0be6e2af0b27"
      },
      "execution_count": null,
      "outputs": [
        {
          "output_type": "stream",
          "name": "stdout",
          "text": [
            "5 4 3 2 1 \n",
            "5 4 3 2 1 \n",
            "5 4 3 2 1 \n",
            "5 4 3 2 1 \n",
            "5 4 3 2 1 \n"
          ]
        }
      ]
    },
    {
      "cell_type": "markdown",
      "source": [
        "48."
      ],
      "metadata": {
        "id": "pznzT7TsPEwl"
      }
    },
    {
      "cell_type": "code",
      "source": [
        "for i in range(5,0,-1):\n",
        "  for j in range (5,0,-1):\n",
        "    print(i,end=\" \")\n",
        "  print()"
      ],
      "metadata": {
        "colab": {
          "base_uri": "https://localhost:8080/"
        },
        "id": "GSAtzh_2PDU9",
        "outputId": "b4b468b2-9e02-4d49-fcdf-cc67e0a9ce90"
      },
      "execution_count": null,
      "outputs": [
        {
          "output_type": "stream",
          "name": "stdout",
          "text": [
            "5 5 5 5 5 \n",
            "4 4 4 4 4 \n",
            "3 3 3 3 3 \n",
            "2 2 2 2 2 \n",
            "1 1 1 1 1 \n"
          ]
        }
      ]
    },
    {
      "cell_type": "markdown",
      "source": [
        "49."
      ],
      "metadata": {
        "id": "Wc__8pDqPRFm"
      }
    },
    {
      "cell_type": "code",
      "source": [
        "i = 1\n",
        "while i < 5:\n",
        "    j = 1\n",
        "    while j <= i:\n",
        "        print(\"*\", end=\" \")\n",
        "        j += 1\n",
        "    print()\n",
        "    i += 1"
      ],
      "metadata": {
        "colab": {
          "base_uri": "https://localhost:8080/"
        },
        "id": "mzcCVXzJPSaX",
        "outputId": "4e87da3d-0980-4ead-e625-90c240ad7b4b"
      },
      "execution_count": null,
      "outputs": [
        {
          "output_type": "stream",
          "name": "stdout",
          "text": [
            "* \n",
            "* * \n",
            "* * * \n",
            "* * * * \n"
          ]
        }
      ]
    },
    {
      "cell_type": "markdown",
      "source": [
        "50."
      ],
      "metadata": {
        "id": "87cCgpNFQKre"
      }
    },
    {
      "cell_type": "code",
      "source": [
        "for i in range(1, 6):\n",
        "  for j in range(1,6):\n",
        "    print(\"*\", end=\" \")\n",
        "  print()"
      ],
      "metadata": {
        "colab": {
          "base_uri": "https://localhost:8080/"
        },
        "id": "NX-Ny3WrQO4f",
        "outputId": "568d8c1f-3545-44da-8ec4-7fbf6a07d3bf"
      },
      "execution_count": null,
      "outputs": [
        {
          "output_type": "stream",
          "name": "stdout",
          "text": [
            "* * * * * \n",
            "* * * * * \n",
            "* * * * * \n",
            "* * * * * \n",
            "* * * * * \n"
          ]
        }
      ]
    },
    {
      "cell_type": "markdown",
      "source": [
        "51."
      ],
      "metadata": {
        "id": "TkPlnoEAQeOC"
      }
    },
    {
      "cell_type": "code",
      "source": [
        "a = 5\n",
        "b = 1\n",
        "for i in range(a):\n",
        "    for j in range(5):\n",
        "        print(f\"{b + j:4}\", end=\" \")\n",
        "    print()\n",
        "    b += 5"
      ],
      "metadata": {
        "colab": {
          "base_uri": "https://localhost:8080/"
        },
        "id": "QTXVchbnQfnu",
        "outputId": "b3f22e83-4220-451e-dbf3-ab7227e8c4dc"
      },
      "execution_count": null,
      "outputs": [
        {
          "output_type": "stream",
          "name": "stdout",
          "text": [
            "   1    2    3    4    5 \n",
            "   6    7    8    9   10 \n",
            "  11   12   13   14   15 \n",
            "  16   17   18   19   20 \n",
            "  21   22   23   24   25 \n"
          ]
        }
      ]
    },
    {
      "cell_type": "markdown",
      "source": [
        "This code generates a 5x5 grid of numbers.\n",
        "\n",
        "a = 5 and b = 1 initialize variables for the grid size and the starting number.\n",
        "The outer loop for i in range(a): controls the rows, running 5 times.\n",
        "The inner loop for j in range(5): controls the columns, running 5 times for each row.\n",
        "print(f\"{b + j:4}\", end=\" \") prints the current number (b + j), formatted to take up 4 spaces, followed by a space to separate the numbers in a row.\n",
        "print() after the inner loop moves to the next line after each row is complete.\n",
        "b += 5 increments the starting number b by 5 after each row, so the next row starts with a number 5 greater than the previous row's starting number."
      ],
      "metadata": {
        "id": "3mNBXLH8Wawz"
      }
    },
    {
      "cell_type": "markdown",
      "source": [
        "52.\n",
        "\n"
      ],
      "metadata": {
        "id": "y_efhr3zUPJF"
      }
    },
    {
      "cell_type": "code",
      "source": [
        "for i in range (1,26):\n",
        " print(chr(64+i),end=\" \")\n",
        " if i%5==0:\n",
        "   print()\n"
      ],
      "metadata": {
        "colab": {
          "base_uri": "https://localhost:8080/"
        },
        "id": "ui1C2nd-S5B6",
        "outputId": "bf9e6b0e-d070-4aa9-8027-6c976396a775"
      },
      "execution_count": null,
      "outputs": [
        {
          "output_type": "stream",
          "name": "stdout",
          "text": [
            "A B C D E \n",
            "F G H I J \n",
            "K L M N O \n",
            "P Q R S T \n",
            "U V W X Y \n"
          ]
        }
      ]
    },
    {
      "cell_type": "markdown",
      "source": [
        "Step-by-Step Explanation:\n",
        "\n",
        "for i in range(1, 26):\n",
        "This means:\n",
        "➜ Start a loop with numbers from 1 to 25\n",
        "\n",
        "chr(64 + i)\n",
        "➜ chr() turns a number into a letter\n",
        "➜ In ASCII, A is number 65\n",
        "➜ So when i = 1, chr(64 + 1) → chr(65) → 'A'\n",
        "➜ When i = 2, it's 'B', and so on...\n",
        "\n",
        "print(..., end=\" \")\n",
        "➜ This prints the letter on the same line with a space after it\n",
        "\n",
        "if i % 5 == 0:\n",
        "➜ Every time 5 letters are printed, this adds a line break\n",
        "➜ So you get 5 letters per row"
      ],
      "metadata": {
        "id": "2Nlipd14bYu1"
      }
    },
    {
      "cell_type": "markdown",
      "source": [
        "53."
      ],
      "metadata": {
        "id": "Err70J-wVKzO"
      }
    },
    {
      "cell_type": "code",
      "source": [
        "for i in range  (ord('A'),ord('E')+1):\n",
        "  for j in range (ord('A'),ord('E')+1):\n",
        "    print(chr(j),end=\" \")\n",
        "  print()\n"
      ],
      "metadata": {
        "id": "ek0H_JE8VL_0",
        "colab": {
          "base_uri": "https://localhost:8080/"
        },
        "outputId": "db1d6580-0f2c-4987-82e7-29c4218b56fd"
      },
      "execution_count": null,
      "outputs": [
        {
          "output_type": "stream",
          "name": "stdout",
          "text": [
            "A B C D E \n",
            "A B C D E \n",
            "A B C D E \n",
            "A B C D E \n",
            "A B C D E \n"
          ]
        }
      ]
    },
    {
      "cell_type": "markdown",
      "source": [
        "54.\n"
      ],
      "metadata": {
        "id": "P1COcRanOkUb"
      }
    },
    {
      "cell_type": "code",
      "source": [
        "for i in range  (ord('E'),ord('A')-1,-1):\n",
        "  for j in range (ord('E'),ord('A')-1,-1):\n",
        "    print(chr(j),end=\" \")\n",
        "  print()"
      ],
      "metadata": {
        "colab": {
          "base_uri": "https://localhost:8080/"
        },
        "id": "0lLjqmfxOl0q",
        "outputId": "e80ff167-b9e0-41bc-af92-42cd02410737"
      },
      "execution_count": null,
      "outputs": [
        {
          "output_type": "stream",
          "name": "stdout",
          "text": [
            "E D C B A \n",
            "E D C B A \n",
            "E D C B A \n",
            "E D C B A \n",
            "E D C B A \n"
          ]
        }
      ]
    },
    {
      "cell_type": "markdown",
      "source": [
        "The outer loop iterates from the ASCII value of 'E' down to the ASCII value of 'A' (inclusive), controlling the rows. ord('E') gets the ASCII value of 'E', ord('A')-1 is the stop value (exclusive), and -1 is the step to count down.\n",
        "The inner loop does the same, iterating from the ASCII value of 'E' down to the ASCII value of 'A' for each row, controlling the columns.\n",
        "chr(j) converts the current ASCII value j back to its corresponding character.\n",
        "end=\" \" keeps the output of the inner loop on the same line, separated by spaces.\n",
        "print() after the inner loop creates a new line for the next row."
      ],
      "metadata": {
        "id": "hB9Q8d9qPJpp"
      }
    },
    {
      "cell_type": "markdown",
      "source": [
        "55."
      ],
      "metadata": {
        "id": "UpyNgvfsPqLJ"
      }
    },
    {
      "cell_type": "code",
      "source": [
        "for i in range(ord('A'),ord('E')+1):\n",
        "  for j in range(ord('A'),ord('E')+1):\n",
        "    print(chr(i),end=\" \")\n",
        "  print()"
      ],
      "metadata": {
        "colab": {
          "base_uri": "https://localhost:8080/"
        },
        "id": "joktYJEiPOW5",
        "outputId": "0d7f89ff-cb31-4eb1-b38c-452422f0cfea"
      },
      "execution_count": null,
      "outputs": [
        {
          "output_type": "stream",
          "name": "stdout",
          "text": [
            "A A A A A \n",
            "B B B B B \n",
            "C C C C C \n",
            "D D D D D \n",
            "E E E E E \n"
          ]
        }
      ]
    },
    {
      "cell_type": "markdown",
      "source": [
        "56."
      ],
      "metadata": {
        "id": "xaE5kxMaPy5Q"
      }
    },
    {
      "cell_type": "code",
      "source": [
        "for i in range(ord('E'),ord('A')-1,-1):\n",
        "  for j in range(ord('E'),ord('A')-1,-1):\n",
        "    print(chr(i),end=\" \")\n",
        "  print()"
      ],
      "metadata": {
        "colab": {
          "base_uri": "https://localhost:8080/"
        },
        "id": "u8YY1TCUPzvA",
        "outputId": "d58ffee8-a6a0-4951-add1-c9bfcc1f08bc"
      },
      "execution_count": null,
      "outputs": [
        {
          "output_type": "stream",
          "name": "stdout",
          "text": [
            "E E E E E \n",
            "D D D D D \n",
            "C C C C C \n",
            "B B B B B \n",
            "A A A A A \n"
          ]
        }
      ]
    },
    {
      "cell_type": "markdown",
      "source": [
        "57."
      ],
      "metadata": {
        "id": "5s1a8_GuQKpB"
      }
    },
    {
      "cell_type": "code",
      "source": [
        "i = 1\n",
        "while i <= 5:\n",
        "    j = 1\n",
        "    while j <= i:\n",
        "        print(j, end=\" \")\n",
        "        j += 1\n",
        "    print()\n",
        "    i += 1"
      ],
      "metadata": {
        "colab": {
          "base_uri": "https://localhost:8080/"
        },
        "id": "U8dwi_U9QOfN",
        "outputId": "5fc64a70-ff65-44f5-88c1-d8ece8f4e010"
      },
      "execution_count": null,
      "outputs": [
        {
          "output_type": "stream",
          "name": "stdout",
          "text": [
            "1 \n",
            "1 2 \n",
            "1 2 3 \n",
            "1 2 3 4 \n",
            "1 2 3 4 5 \n"
          ]
        }
      ]
    },
    {
      "cell_type": "markdown",
      "source": [
        "58."
      ],
      "metadata": {
        "id": "mzuTT7eGQpgw"
      }
    },
    {
      "cell_type": "code",
      "source": [
        "for i in range(1,6):\n",
        "  for j in range(1,i+1):\n",
        "    print(i,end=\" \")\n",
        "  print()"
      ],
      "metadata": {
        "colab": {
          "base_uri": "https://localhost:8080/"
        },
        "id": "obmTUK5kQrd5",
        "outputId": "ed497ec3-b1d1-43aa-a020-caa1ed741089"
      },
      "execution_count": null,
      "outputs": [
        {
          "output_type": "stream",
          "name": "stdout",
          "text": [
            "1 \n",
            "2 2 \n",
            "3 3 3 \n",
            "4 4 4 4 \n",
            "5 5 5 5 5 \n"
          ]
        }
      ]
    },
    {
      "cell_type": "markdown",
      "source": [
        "59."
      ],
      "metadata": {
        "id": "HFzSFnVNQ53J"
      }
    },
    {
      "cell_type": "code",
      "source": [
        "for i in range(5,0,-1):\n",
        "  for j in range(1,6-i+1):\n",
        "       print((i),end=\" \")\n",
        "  print()"
      ],
      "metadata": {
        "colab": {
          "base_uri": "https://localhost:8080/"
        },
        "id": "_Pn3qSNEbvOU",
        "outputId": "f93f866a-f465-4f8b-a598-4b6fb5cd7e21"
      },
      "execution_count": null,
      "outputs": [
        {
          "output_type": "stream",
          "name": "stdout",
          "text": [
            "5 \n",
            "4 4 \n",
            "3 3 3 \n",
            "2 2 2 2 \n",
            "1 1 1 1 1 \n"
          ]
        }
      ]
    },
    {
      "cell_type": "markdown",
      "source": [
        "Step-by-step explanation:\n",
        "\n",
        "for i in range(5,0,-1):\n",
        "\n",
        "This loop starts from 5 and goes down to 1 (because of -1).\n",
        "\n",
        "So i takes values: 5, 4, 3, 2, 1\n",
        "\n",
        "Inner loop: for j in range(1,6-i+1):\n",
        "\n",
        "Controls how many times to print each number per line.\n",
        "\n",
        "When i = 5 → range(1,6-5+1) → range(1,2) → runs 1 time\n",
        "\n",
        "When i = 4 → range(1,3) → runs 2 times\n",
        "\n",
        "When i = 3 → range(1,4) → runs 3 times\n",
        "\n",
        "When i = 2 → range(1,5) → runs 4 times\n",
        "\n",
        "When i = 1 → range(1,6) → runs 5 times\n",
        "\n",
        "print(i, end=\" \")\n",
        "\n",
        "Prints the number i on the same line, followed by a space.\n",
        "\n",
        "Because of end=\" \", it doesn’t go to the next line immediately.\n",
        "\n",
        "print() (outside inner loop)\n",
        "\n",
        "After finishing each row, moves to the next line."
      ],
      "metadata": {
        "id": "6HZ4zFMPdmbB"
      }
    },
    {
      "cell_type": "markdown",
      "source": [
        "60.\n"
      ],
      "metadata": {
        "id": "0a8YJ103dupY"
      }
    },
    {
      "cell_type": "code",
      "source": [
        "for i in range (1,6):\n",
        "  for j in range(1,1+i):\n",
        "   print(chr(64+j),end=\" \")\n",
        "  print()"
      ],
      "metadata": {
        "colab": {
          "base_uri": "https://localhost:8080/"
        },
        "id": "eUL6X-Y4dzEB",
        "outputId": "f0bb5b21-7fd3-489f-9ab2-ceac71807a6e"
      },
      "execution_count": null,
      "outputs": [
        {
          "output_type": "stream",
          "name": "stdout",
          "text": [
            "A \n",
            "A B \n",
            "A B C \n",
            "A B C D \n",
            "A B C D E \n"
          ]
        }
      ]
    },
    {
      "cell_type": "markdown",
      "source": [
        "61."
      ],
      "metadata": {
        "id": "xmtuWRUfe8Hm"
      }
    },
    {
      "cell_type": "code",
      "source": [
        "for i in range (1,5):\n",
        "  for j in range(5,5-(1+i),-1):\n",
        "   print(chr(64+j),end=\" \")\n",
        "  print()"
      ],
      "metadata": {
        "colab": {
          "base_uri": "https://localhost:8080/"
        },
        "id": "Lk_hQHSle9em",
        "outputId": "8a873c97-defe-469a-d5ce-b70022ca1fc7"
      },
      "execution_count": null,
      "outputs": [
        {
          "output_type": "stream",
          "name": "stdout",
          "text": [
            "E D \n",
            "E D C \n",
            "E D C B \n",
            "E D C B A \n"
          ]
        }
      ]
    },
    {
      "cell_type": "markdown",
      "source": [
        "or j in range(5, 5-(1+i), -1):\n",
        "Let’s see how this behaves for each i value 👇\n",
        "| i | Expression `5-(1+i)` | So `range(5, that, -1)` becomes | j values printed |\n",
        "| - | -------------------- | ------------------------------- | ---------------- |\n",
        "| 1 | 5-(1+1)=3            | range(5,3,-1)                   | 5, 4             |\n",
        "| 2 | 5-(1+2)=2            | range(5,2,-1)                   | 5, 4, 3          |\n",
        "| 3 | 5-(1+3)=1            | range(5,1,-1)                   | 5, 4, 3, 2       |\n",
        "| 4 | 5-(1+4)=0            | range(5,0,-1)                   | 5, 4, 3, 2, 1    |\n"
      ],
      "metadata": {
        "id": "FRbNgPMFhBK6"
      }
    },
    {
      "cell_type": "markdown",
      "source": [
        "62."
      ],
      "metadata": {
        "id": "GDqup-6ZhTcB"
      }
    },
    {
      "cell_type": "code",
      "source": [
        "for i in range (1,6):\n",
        "  for j in range(1,7-i):\n",
        "    print(j, end=\" \")\n",
        "  print()"
      ],
      "metadata": {
        "colab": {
          "base_uri": "https://localhost:8080/"
        },
        "id": "002N1VzGhD_i",
        "outputId": "51e0b533-d57d-4e2d-f725-c633620c0bc4"
      },
      "execution_count": null,
      "outputs": [
        {
          "output_type": "stream",
          "name": "stdout",
          "text": [
            "1 2 3 4 5 \n",
            "1 2 3 4 \n",
            "1 2 3 \n",
            "1 2 \n",
            "1 \n"
          ]
        }
      ]
    },
    {
      "cell_type": "markdown",
      "source": [
        "63."
      ],
      "metadata": {
        "id": "O7vjQR3MknR8"
      }
    },
    {
      "cell_type": "code",
      "source": [
        "for i in range(5, 0, -1):\n",
        "    for j in range(i, 0, -1):\n",
        "        print(j, end=\" \")\n",
        "    print()\n"
      ],
      "metadata": {
        "colab": {
          "base_uri": "https://localhost:8080/"
        },
        "id": "_-JHLa7MjqOd",
        "outputId": "a1941615-791b-4c67-a324-51aade181464"
      },
      "execution_count": null,
      "outputs": [
        {
          "output_type": "stream",
          "name": "stdout",
          "text": [
            "5 4 3 2 1 \n",
            "4 3 2 1 \n",
            "3 2 1 \n",
            "2 1 \n",
            "1 \n"
          ]
        }
      ]
    },
    {
      "cell_type": "markdown",
      "source": [
        "64."
      ],
      "metadata": {
        "id": "0sQOvBJlkrkU"
      }
    },
    {
      "cell_type": "code",
      "source": [
        "for i in range (1,6):\n",
        "  for j in range(1,7-i):\n",
        "   print(chr(64+j),end=\" \")\n",
        "  print()"
      ],
      "metadata": {
        "colab": {
          "base_uri": "https://localhost:8080/"
        },
        "id": "Nvfa4Humks-j",
        "outputId": "269705e0-7189-4e27-aede-e8593bf35812"
      },
      "execution_count": null,
      "outputs": [
        {
          "output_type": "stream",
          "name": "stdout",
          "text": [
            "A B C D E \n",
            "A B C D \n",
            "A B C \n",
            "A B \n",
            "A \n"
          ]
        }
      ]
    },
    {
      "cell_type": "markdown",
      "source": [
        "65."
      ],
      "metadata": {
        "id": "Z047ZAQ1mTcR"
      }
    },
    {
      "cell_type": "code",
      "source": [
        "for i in range(5, 0, -1):\n",
        "    for j in range(i + 1, 0, -1):\n",
        "        print(chr(64 + i), end=\" \")\n",
        "    print()\n"
      ],
      "metadata": {
        "colab": {
          "base_uri": "https://localhost:8080/"
        },
        "id": "X2PwDmyMpO7c",
        "outputId": "4a5e482f-fb0c-478b-9977-eccec97a2ca8"
      },
      "execution_count": null,
      "outputs": [
        {
          "output_type": "stream",
          "name": "stdout",
          "text": [
            "E E E E E E \n",
            "D D D D D \n",
            "C C C C \n",
            "B B B \n",
            "A A \n"
          ]
        }
      ]
    },
    {
      "cell_type": "markdown",
      "source": [
        "66."
      ],
      "metadata": {
        "id": "ZyI4_Myc2zRz"
      }
    },
    {
      "cell_type": "code",
      "source": [
        "n = 5\n",
        "for i in range(1, n + 1):\n",
        "    for j in range(i, 0, -1):\n",
        "        print(j, end=\" \")\n",
        "    print()\n",
        "\n"
      ],
      "metadata": {
        "colab": {
          "base_uri": "https://localhost:8080/"
        },
        "id": "IfYYS9JR21kc",
        "outputId": "bf7f98d3-41e5-4ce8-f6ea-517e1b34fa23"
      },
      "execution_count": null,
      "outputs": [
        {
          "output_type": "stream",
          "name": "stdout",
          "text": [
            "1 \n",
            "2 1 \n",
            "3 2 1 \n",
            "4 3 2 1 \n",
            "5 4 3 2 1 \n"
          ]
        }
      ]
    },
    {
      "cell_type": "markdown",
      "source": [
        "67\n"
      ],
      "metadata": {
        "id": "SHm3kwAQ6Xoq"
      }
    },
    {
      "cell_type": "code",
      "source": [
        "n = 5\n",
        "for i in range(n):\n",
        "    for j in range(65+i, 70):\n",
        "        print(chr(j), end=\" \")\n",
        "    print()\n"
      ],
      "metadata": {
        "colab": {
          "base_uri": "https://localhost:8080/"
        },
        "id": "w6zr9j1W6ZHD",
        "outputId": "698139f1-1f48-413c-dec6-41716f9526a3"
      },
      "execution_count": null,
      "outputs": [
        {
          "output_type": "stream",
          "name": "stdout",
          "text": [
            "A B C D E \n",
            "B C D E \n",
            "C D E \n",
            "D E \n",
            "E \n"
          ]
        }
      ]
    },
    {
      "cell_type": "markdown",
      "source": [
        "68\n"
      ],
      "metadata": {
        "id": "af9J931v6ij8"
      }
    },
    {
      "cell_type": "code",
      "source": [
        "n = 5\n",
        "for i in range(n, 0, -1):\n",
        "    for j in range(i, 0, -1):\n",
        "        print(j, end=\" \")\n",
        "    print()\n"
      ],
      "metadata": {
        "colab": {
          "base_uri": "https://localhost:8080/"
        },
        "id": "S12l0sos6kKF",
        "outputId": "bfacb525-c69b-438d-b97d-00ca437d6303"
      },
      "execution_count": null,
      "outputs": [
        {
          "output_type": "stream",
          "name": "stdout",
          "text": [
            "5 4 3 2 1 \n",
            "4 3 2 1 \n",
            "3 2 1 \n",
            "2 1 \n",
            "1 \n"
          ]
        }
      ]
    },
    {
      "cell_type": "markdown",
      "source": [
        "69."
      ],
      "metadata": {
        "id": "cz8ujgn76wVv"
      }
    },
    {
      "cell_type": "code",
      "source": [
        "n = 5\n",
        "for i in range(1, n+1):\n",
        "    for j in range(i, n+1):\n",
        "        print(j, end=\" \")\n",
        "    print()\n"
      ],
      "metadata": {
        "colab": {
          "base_uri": "https://localhost:8080/"
        },
        "id": "mbX2RzPa6x12",
        "outputId": "6794ca03-5657-4a49-c0a9-ba708553e1e5"
      },
      "execution_count": null,
      "outputs": [
        {
          "output_type": "stream",
          "name": "stdout",
          "text": [
            "1 2 3 4 5 \n",
            "2 3 4 5 \n",
            "3 4 5 \n",
            "4 5 \n",
            "5 \n"
          ]
        }
      ]
    },
    {
      "cell_type": "markdown",
      "source": [
        "70."
      ],
      "metadata": {
        "id": "y8yHBQVD636O"
      }
    },
    {
      "cell_type": "code",
      "source": [
        "a = 5\n",
        "b = 65\n",
        "for i in range(a):\n",
        "    for j in range(a):\n",
        "        print(chr(b), end=\" \")\n",
        "        b += 1\n",
        "    print()\n"
      ],
      "metadata": {
        "colab": {
          "base_uri": "https://localhost:8080/"
        },
        "id": "s3bs-kDQ65cv",
        "outputId": "0c3b4646-6c78-4764-c92b-a4904684b193"
      },
      "execution_count": null,
      "outputs": [
        {
          "output_type": "stream",
          "name": "stdout",
          "text": [
            "A B C D E \n",
            "F G H I J \n",
            "K L M N O \n",
            "P Q R S T \n",
            "U V W X Y \n"
          ]
        }
      ]
    },
    {
      "cell_type": "markdown",
      "source": [
        "71"
      ],
      "metadata": {
        "id": "9KHv0knR8CSW"
      }
    },
    {
      "cell_type": "code",
      "source": [
        "n = 5\n",
        "for i in range(65, 70):\n",
        "    for j in range(97 + (i - 65)*n, 97 + (i - 64)*n):\n",
        "        print(chr(j), end=\" \")\n",
        "    print()\n"
      ],
      "metadata": {
        "colab": {
          "base_uri": "https://localhost:8080/"
        },
        "id": "-mK10x5a8BnW",
        "outputId": "3ce20e9a-7684-4402-a1f4-5bbd852952e9"
      },
      "execution_count": null,
      "outputs": [
        {
          "output_type": "stream",
          "name": "stdout",
          "text": [
            "a b c d e \n",
            "f g h i j \n",
            "k l m n o \n",
            "p q r s t \n",
            "u v w x y \n"
          ]
        }
      ]
    },
    {
      "cell_type": "markdown",
      "source": [
        "72."
      ],
      "metadata": {
        "id": "xdFDaLLX8LUX"
      }
    },
    {
      "cell_type": "code",
      "source": [
        "n = 5\n",
        "for i in range(5):\n",
        "    if i % 2 == 0:\n",
        "        start = 65 + i*5\n",
        "    else:\n",
        "        start = 97 + i*5\n",
        "    for j in range(start, start+5):\n",
        "        print(chr(j), end=\"\")\n",
        "    print()\n"
      ],
      "metadata": {
        "colab": {
          "base_uri": "https://localhost:8080/"
        },
        "id": "Jy_lknkr8Mou",
        "outputId": "74bad7f2-a0e0-4761-a69d-c9e437c558a9"
      },
      "execution_count": null,
      "outputs": [
        {
          "output_type": "stream",
          "name": "stdout",
          "text": [
            "ABCDE\n",
            "fghij\n",
            "KLMNO\n",
            "pqrst\n",
            "UVWXY\n"
          ]
        }
      ]
    },
    {
      "cell_type": "markdown",
      "source": [
        "73."
      ],
      "metadata": {
        "id": "UWMnK69Y8UI9"
      }
    },
    {
      "cell_type": "code",
      "source": [
        "n = 5\n",
        "for i in range(n):\n",
        "    for j in range(n):\n",
        "        print((i+j) % 2, end=\"\")\n",
        "    print()\n"
      ],
      "metadata": {
        "colab": {
          "base_uri": "https://localhost:8080/"
        },
        "id": "rv85-Pbo8WDv",
        "outputId": "55504469-0f72-43cc-8edb-b879ac60c692"
      },
      "execution_count": null,
      "outputs": [
        {
          "output_type": "stream",
          "name": "stdout",
          "text": [
            "01010\n",
            "10101\n",
            "01010\n",
            "10101\n",
            "01010\n"
          ]
        }
      ]
    },
    {
      "cell_type": "markdown",
      "source": [
        "74."
      ],
      "metadata": {
        "id": "9QFtWN5p8ZFA"
      }
    },
    {
      "cell_type": "code",
      "source": [
        "n = 5\n",
        "for i in range(1, n+1):\n",
        "    print(\" \"*(n-i) + \"* \" * i)\n"
      ],
      "metadata": {
        "id": "G0buefA-8aOH"
      },
      "execution_count": null,
      "outputs": []
    },
    {
      "cell_type": "markdown",
      "source": [
        "75."
      ],
      "metadata": {
        "id": "hCMghvmD8dAR"
      }
    },
    {
      "cell_type": "code",
      "source": [
        "n = 5\n",
        "for i in range(1, n + 1):\n",
        "    print(\"  \" * (n - i), end=\" \")\n",
        "    for j in range(1, i + 1):\n",
        "        print(j, end=\"  \")\n",
        "    print()\n",
        "\n"
      ],
      "metadata": {
        "colab": {
          "base_uri": "https://localhost:8080/"
        },
        "id": "VFxlFqUw8fQ4",
        "outputId": "5a93b65b-ece4-413c-efee-3374a3a7ddc2"
      },
      "execution_count": null,
      "outputs": [
        {
          "output_type": "stream",
          "name": "stdout",
          "text": [
            "         1  \n",
            "       1  2  \n",
            "     1  2  3  \n",
            "   1  2  3  4  \n",
            " 1  2  3  4  5  \n"
          ]
        }
      ]
    },
    {
      "cell_type": "markdown",
      "source": [
        "76.\n"
      ],
      "metadata": {
        "id": "Q1IFQJFG-Y8V"
      }
    },
    {
      "cell_type": "code",
      "source": [
        "n = 5\n",
        "for i in range(n, 0, -1):\n",
        "    print(\"  \" * (n - i), end=\"\")\n",
        "    for j in range(1, i + 1):\n",
        "        print(j, end=\"   \" if j < i else \"\")\n",
        "    print()"
      ],
      "metadata": {
        "colab": {
          "base_uri": "https://localhost:8080/"
        },
        "id": "Ygx8gegK-ac-",
        "outputId": "d66e530a-3b14-4e14-8379-e72c899b6b90"
      },
      "execution_count": null,
      "outputs": [
        {
          "output_type": "stream",
          "name": "stdout",
          "text": [
            "1   2   3   4   5\n",
            "  1   2   3   4\n",
            "    1   2   3\n",
            "      1   2\n",
            "        1\n"
          ]
        }
      ]
    },
    {
      "cell_type": "markdown",
      "source": [
        "77."
      ],
      "metadata": {
        "id": "1gpxU92dANWB"
      }
    },
    {
      "cell_type": "code",
      "source": [
        "n = 5\n",
        "for i in range(1, n + 1):\n",
        "    print(\"  \" * (n - i), end=\"\")\n",
        "    for j in range(1, i + 1):\n",
        "        print(j, end=\" \")\n",
        "    print()\n"
      ],
      "metadata": {
        "colab": {
          "base_uri": "https://localhost:8080/"
        },
        "id": "5DqMt-3_AO25",
        "outputId": "84f240ab-bfb8-485f-ca01-5764aea16bed"
      },
      "execution_count": null,
      "outputs": [
        {
          "output_type": "stream",
          "name": "stdout",
          "text": [
            "        1 \n",
            "      1 2 \n",
            "    1 2 3 \n",
            "  1 2 3 4 \n",
            "1 2 3 4 5 \n"
          ]
        }
      ]
    },
    {
      "cell_type": "markdown",
      "source": [
        "78."
      ],
      "metadata": {
        "id": "ByH_dtlPCx0i"
      }
    },
    {
      "cell_type": "code",
      "source": [
        "for i in range(1, 6):\n",
        "    for j in range(1, i + 1):\n",
        "        print(j, end='')\n",
        "    print('')"
      ],
      "metadata": {
        "colab": {
          "base_uri": "https://localhost:8080/"
        },
        "id": "t6fqs-dBCzAa",
        "outputId": "9055116a-b6b9-41ba-de1f-d6471101a102"
      },
      "execution_count": null,
      "outputs": [
        {
          "output_type": "stream",
          "name": "stdout",
          "text": [
            "1\n",
            "12\n",
            "123\n",
            "1234\n",
            "12345\n"
          ]
        }
      ]
    },
    {
      "cell_type": "markdown",
      "source": [
        "\n",
        "\n",
        "79.\n",
        "\n"
      ],
      "metadata": {
        "id": "fjj_F4nkERWL"
      }
    },
    {
      "cell_type": "code",
      "source": [
        "for i in range(1, 6):\n",
        "    print('x' * i)\n"
      ],
      "metadata": {
        "colab": {
          "base_uri": "https://localhost:8080/"
        },
        "id": "T04hbJi8EQAk",
        "outputId": "3aeb4cd1-f18d-4954-d2f2-a6908943cae9"
      },
      "execution_count": null,
      "outputs": [
        {
          "output_type": "stream",
          "name": "stdout",
          "text": [
            "x\n",
            "xx\n",
            "xxx\n",
            "xxxx\n",
            "xxxxx\n"
          ]
        }
      ]
    },
    {
      "cell_type": "markdown",
      "source": [
        "80."
      ],
      "metadata": {
        "id": "F44SP-k1EqCW"
      }
    },
    {
      "cell_type": "code",
      "source": [
        "for i in range(1, 6):\n",
        "    for j in range(i, 6):\n",
        "        print(j, end=\" \")\n",
        "    print()"
      ],
      "metadata": {
        "colab": {
          "base_uri": "https://localhost:8080/"
        },
        "id": "S5X-u4dZErm2",
        "outputId": "af3cbdc6-e45c-4567-be42-add9961a3892"
      },
      "execution_count": null,
      "outputs": [
        {
          "output_type": "stream",
          "name": "stdout",
          "text": [
            "1 2 3 4 5 \n",
            "2 3 4 5 \n",
            "3 4 5 \n",
            "4 5 \n",
            "5 \n"
          ]
        }
      ]
    },
    {
      "cell_type": "markdown",
      "source": [
        "81."
      ],
      "metadata": {
        "id": "_l5d_cYqFSPT"
      }
    },
    {
      "cell_type": "code",
      "source": [
        "n = 6\n",
        "\n",
        "for i in range(1, n + 1):\n",
        "    for j in range(1, i + 1):\n",
        "        print(j, end='')\n",
        "    for j in range(i - 1, 0, -1):\n",
        "        print(j, end='')\n",
        "\n",
        "    print()\n",
        "\n"
      ],
      "metadata": {
        "colab": {
          "base_uri": "https://localhost:8080/"
        },
        "id": "DgQgvTXldRZH",
        "outputId": "43358aff-bc6c-4737-a511-ed5224cd8be5"
      },
      "execution_count": null,
      "outputs": [
        {
          "output_type": "stream",
          "name": "stdout",
          "text": [
            "1\n",
            "121\n",
            "12321\n",
            "1234321\n",
            "123454321\n",
            "12345654321\n"
          ]
        }
      ]
    },
    {
      "cell_type": "markdown",
      "source": [
        "82."
      ],
      "metadata": {
        "id": "wsDnSJcvfOoz"
      }
    },
    {
      "cell_type": "code",
      "source": [
        "n = 5\n",
        "for i in range(1, n + 1):\n",
        "    print(\" \" * (n - i) + \"x\" * (2 * i - 1))\n"
      ],
      "metadata": {
        "colab": {
          "base_uri": "https://localhost:8080/"
        },
        "id": "ndQza54xfQAR",
        "outputId": "338ecff4-02c5-423d-a906-5b7779afd2d1"
      },
      "execution_count": null,
      "outputs": [
        {
          "output_type": "stream",
          "name": "stdout",
          "text": [
            "    x\n",
            "   xxx\n",
            "  xxxxx\n",
            " xxxxxxx\n",
            "xxxxxxxxx\n"
          ]
        }
      ]
    },
    {
      "cell_type": "markdown",
      "source": [
        "83."
      ],
      "metadata": {
        "id": "bGFiX8o6fgQ7"
      }
    },
    {
      "cell_type": "code",
      "source": [
        "n = 5\n",
        "for i in range(1, n + 1):\n",
        "    for j in range(1, i + 1):\n",
        "        print(j, end=' ')\n",
        "    print()\n",
        "for i in range(n, 0, -1):\n",
        "    for j in range(i, 0, -1):\n",
        "        print(j, end=' ')\n",
        "    print()\n"
      ],
      "metadata": {
        "colab": {
          "base_uri": "https://localhost:8080/"
        },
        "id": "t1etVTt_fhie",
        "outputId": "dd657061-1394-46b6-f03b-1741985fd625"
      },
      "execution_count": null,
      "outputs": [
        {
          "output_type": "stream",
          "name": "stdout",
          "text": [
            "1 \n",
            "1 2 \n",
            "1 2 3 \n",
            "1 2 3 4 \n",
            "1 2 3 4 5 \n",
            "5 4 3 2 1 \n",
            "4 3 2 1 \n",
            "3 2 1 \n",
            "2 1 \n",
            "1 \n"
          ]
        }
      ]
    },
    {
      "cell_type": "markdown",
      "source": [
        "84."
      ],
      "metadata": {
        "id": "6ck8MDk8frrM"
      }
    },
    {
      "cell_type": "code",
      "source": [
        "n = 5\n",
        "for i in range(n):\n",
        "    for _ in range(n - 1 - i):\n",
        "        print(\" \", end=\" \")\n",
        "    for j in range(i, -1, -1):\n",
        "        print(chr(65 + j), end=\" \")\n",
        "    for j in range(1, i + 1):\n",
        "        print(chr(65 + j), end=\" \")\n",
        "    print()"
      ],
      "metadata": {
        "colab": {
          "base_uri": "https://localhost:8080/"
        },
        "id": "M2HD57a_ftGf",
        "outputId": "42599224-bdaa-4e4f-d75a-fe57113a37c6"
      },
      "execution_count": null,
      "outputs": [
        {
          "output_type": "stream",
          "name": "stdout",
          "text": [
            "        A \n",
            "      B A B \n",
            "    C B A B C \n",
            "  D C B A B C D \n",
            "E D C B A B C D E \n"
          ]
        }
      ]
    },
    {
      "cell_type": "markdown",
      "source": [
        "85."
      ],
      "metadata": {
        "id": "5Vd0xku7gYq1"
      }
    },
    {
      "cell_type": "code",
      "source": [],
      "metadata": {
        "id": "iFW312pIgaCX"
      },
      "execution_count": null,
      "outputs": []
    }
  ]
}